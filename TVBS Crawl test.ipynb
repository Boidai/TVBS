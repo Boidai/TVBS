{
 "cells": [
  {
   "cell_type": "code",
   "execution_count": 87,
   "metadata": {},
   "outputs": [
    {
     "name": "stdout",
     "output_type": "stream",
     "text": [
      "韓國瑜2年前給柯P「四大建議」　網驚呼：他始終如一！ https://news.tvbs.com.tw/politics/1044241 2018/12/09 17:43 編輯  張中宜 報導 柯文哲,韓國瑜    準高雄市長韓國瑜在這次選戰中大打經濟牌，更主張推動中英文雙語教育，讓高雄能走向國際。近日有網友翻出2年前韓國瑜議會備詢的影片，發現當時韓國瑜向柯文哲提出的4大建議，與現在他對高雄的願景相似度極高，讓不少網友紛紛驚呼「他真的一路走來始終如一」。據了解，韓國瑜卸任台北農產運銷公司總經理後，柯文哲曾有意延攬他進北市府，近日有網友也在PTT上發文，表示當時柯文哲相當佩服韓總在北農的成績，因此想邀他進市府團隊，2人前後談了7、8次，其中韓國瑜還向柯文哲提了4大建議，包括「99%興利，1%除弊，提供市民最好的服務」、「台北實施雙語教育，興建護士學校」、「松山機場大量使用」、「提供最好的癌症治療和觀光」，不過最後因民進黨反對，韓未能進北市府服務。對此，不少網友看完紛紛驚呼，「韓國瑜是不是想做的就這些啊XD」、「這不就他現在的政見 他真的一路走來始終如一」、「韓一直想要台灣變成雙語國家，讓台灣真正走出國際」、「他眼中的島國發展就是人進貨出」，也有人表示「他如果當顧問，就不會有韓流了，這是天意」、「去高雄比較好，在北市府有點大材小用」。最HOT話題在這！想跟上時事，快點我加入TVBS新聞LINE好友！ \n",
      "第 1\n",
      "下載完了!\n"
     ]
    }
   ],
   "source": [
    "# In[3]:\n",
    "import requests\n",
    "import os\n",
    "from bs4 import BeautifulSoup\n",
    "from urllib.request import urlopen\n",
    "from selenium import webdriver\n",
    "import time, re\n",
    "from collections import defaultdict, OrderedDict\n",
    "import sys\n",
    "import json\n",
    "import re\n",
    "\n",
    "def store(data):\n",
    "    with open('test.json','w',encoding='utf8') as f:\n",
    "        f.write(data.encode(sys.stdin.encoding, \"replace\").decode(sys.stdin.encoding))\n",
    "    \n",
    "\n",
    "driver = webdriver.Chrome()\n",
    "driver.implicitly_wait(3)\n",
    "driver.get(\"https://news.tvbs.com.tw/politics/\")\n",
    "count = 0\n",
    "nlist = []\n",
    "for i in range(1,1):#拉\n",
    "    driver.execute_script('window.scrollTo(0, document.body.scrollHeight);')\n",
    "    time.sleep(1)\n",
    "sp = BeautifulSoup(driver.page_source)\n",
    "for j in range(0,1):#我不知道底多少,設一個較大的數字\n",
    "    try:\n",
    "        first = sp.find_all(\"div\", {\"class\":\"real_time_box\"})[0]\n",
    "        two = first.find(\"ul\")\n",
    "        three = two.find_all('li')[j]#變量 0~拉到底\n",
    "        four = three.find_all(\"div\", {\"class\":\"content_center_contxt_real_news\"})[0]\n",
    "    except:\n",
    "        continue\n",
    "    for i in range(0,1):\n",
    "        try:\n",
    "            five = four.select('a')[i]['href']#變量 一個li中有6個a href\n",
    "            news_url = \"https://news.tvbs.com.tw\"+str(five)\n",
    "           \n",
    "            title = four.select(\"h2\")[i].text\n",
    "      \n",
    "            html1 = requests.get(news_url)\n",
    "            html1.encoding=\"utf-8\"\n",
    "            \n",
    "            sp1 = BeautifulSoup(html1.text, 'html.parser')\n",
    "            \n",
    "            ct = sp1.find(\"div\", {\"class\":\"h7 margin_b20\"}).text\n",
    "            ct2 = ct.replace(\"\\t\", \"\")\n",
    "            ct3 = ct2.replace(\"\\n\", \"\")\n",
    "            ct4 = ct3.replace(\"   \", \"\").replace(\"最HOT話題在這！想跟上時事，快點我加入TVBS新聞LINE好友！ \",\"\")\n",
    "            \n",
    "            da = sp1.find(\"div\", {\"class\":\"icon_time time leftBox2\"}).text\n",
    "            \n",
    "            au = sp1.find(\"h4\", {\"class\":\"font_color5 leftBox1\"}).text\n",
    "            au1 = au.replace(\"編輯  \",\"\").replace(\" 報導\",\"\")\n",
    "            \n",
    "            kw = sp1.find(\"div\", {\"class\":\"adWords\"}).text\n",
    "            \n",
    "            kw1 = kw.replace(\"\\t\", \"\")\n",
    "            kw2 = kw1.replace(\",\", \"\")\n",
    "            kw3 = kw2.replace(\"\\n\", \"\").replace(\"      \",\",\")\n",
    "           \n",
    "            \n",
    "            print(title, news_url, da, au, kw3, ct3)\n",
    "            count += 1\n",
    "            print('第',count)\n",
    "            \n",
    "            newsd = {\"source\":\"TVBS\",\"title\":title,\"url\":news_url,\"date_\":da,\n",
    "                 \"type\":\"net\",\"author\":au1,\"kw\":kw3,\"views\":None,\"content\":ct4}\n",
    "        \n",
    "            nlist.append(newsd)\n",
    "            \n",
    "            \n",
    "        except:\n",
    "            continue\n",
    "            \n",
    "json_data = json.dumps(nlist, ensure_ascii=False, indent=4, sort_keys=True)\n",
    "store(json_data)\n",
    "\n",
    "print(\"下載完了!\")\n",
    "\n",
    "driver.close()"
   ]
  },
  {
   "cell_type": "code",
   "execution_count": 85,
   "metadata": {},
   "outputs": [
    {
     "data": {
      "text/plain": [
       "'韓國瑜2年前給柯P「四大建議」\\u3000網驚呼：他始終如一！'"
      ]
     },
     "execution_count": 85,
     "metadata": {},
     "output_type": "execute_result"
    }
   ],
   "source": [
    "title"
   ]
  },
  {
   "cell_type": "code",
   "execution_count": 86,
   "metadata": {},
   "outputs": [
    {
     "data": {
      "text/plain": [
       "'https://news.tvbs.com.tw/politics/1044241'"
      ]
     },
     "execution_count": 86,
     "metadata": {},
     "output_type": "execute_result"
    }
   ],
   "source": [
    "news_url"
   ]
  },
  {
   "cell_type": "code",
   "execution_count": 7,
   "metadata": {},
   "outputs": [
    {
     "data": {
      "text/plain": [
       "'2018/12/09 15:45'"
      ]
     },
     "execution_count": 7,
     "metadata": {},
     "output_type": "execute_result"
    }
   ],
   "source": [
    "da"
   ]
  },
  {
   "cell_type": "code",
   "execution_count": 68,
   "metadata": {},
   "outputs": [
    {
     "data": {
      "text/plain": [
       "'編輯  張中宜 報導'"
      ]
     },
     "execution_count": 68,
     "metadata": {},
     "output_type": "execute_result"
    }
   ],
   "source": [
    "au"
   ]
  },
  {
   "cell_type": "code",
   "execution_count": 70,
   "metadata": {},
   "outputs": [],
   "source": [
    "au1 = au.replace(\"編輯  \",\"\").replace(\" 報導\",\"\")"
   ]
  },
  {
   "cell_type": "code",
   "execution_count": 71,
   "metadata": {},
   "outputs": [
    {
     "data": {
      "text/plain": [
       "'張中宜'"
      ]
     },
     "execution_count": 71,
     "metadata": {},
     "output_type": "execute_result"
    }
   ],
   "source": [
    "au1"
   ]
  },
  {
   "cell_type": "code",
   "execution_count": 77,
   "metadata": {},
   "outputs": [
    {
     "data": {
      "text/plain": [
       "'柯文哲,韓國瑜'"
      ]
     },
     "execution_count": 77,
     "metadata": {},
     "output_type": "execute_result"
    }
   ],
   "source": [
    "kw3.replace(\"      \",\",\")"
   ]
  },
  {
   "cell_type": "code",
   "execution_count": 83,
   "metadata": {},
   "outputs": [],
   "source": [
    "ct4 = ct3.replace(\"   \", \"\").replace(\"最HOT話題在這！想跟上時事，快點我加入TVBS新聞LINE好友！ \",\"\")"
   ]
  },
  {
   "cell_type": "code",
   "execution_count": 84,
   "metadata": {},
   "outputs": [
    {
     "data": {
      "text/plain": [
       "'準高雄市長韓國瑜在這次選戰中大打經濟牌，更主張推動中英文雙語教育，讓高雄能走向國際。近日有網友翻出2年前韓國瑜議會備詢的影片，發現當時韓國瑜向柯文哲提出的4大建議，與現在他對高雄的願景相似度極高，讓不少網友紛紛驚呼「他真的一路走來始終如一」。據了解，韓國瑜卸任台北農產運銷公司總經理後，柯文哲曾有意延攬他進北市府，近日有網友也在PTT上發文，表示當時柯文哲相當佩服韓總在北農的成績，因此想邀他進市府團隊，2人前後談了7、8次，其中韓國瑜還向柯文哲提了4大建議，包括「99%興利，1%除弊，提供市民最好的服務」、「台北實施雙語教育，興建護士學校」、「松山機場大量使用」、「提供最好的癌症治療和觀光」，不過最後因民進黨反對，韓未能進北市府服務。對此，不少網友看完紛紛驚呼，「韓國瑜是不是想做的就這些啊XD」、「這不就他現在的政見 他真的一路走來始終如一」、「韓一直想要台灣變成雙語國家，讓台灣真正走出國際」、「他眼中的島國發展就是人進貨出」，也有人表示「他如果當顧問，就不會有韓流了，這是天意」、「去高雄比較好，在北市府有點大材小用」。'"
      ]
     },
     "execution_count": 84,
     "metadata": {},
     "output_type": "execute_result"
    }
   ],
   "source": [
    "ct4"
   ]
  },
  {
   "cell_type": "code",
   "execution_count": 60,
   "metadata": {},
   "outputs": [
    {
     "name": "stdout",
     "output_type": "stream",
     "text": [
      "['f', 'i', 'n', 'd', 'a', 'b', 'b', 'b', 'b', 'c', 'b', 'c', 's', 'k', 'i', 'p', 'c', 'a', 'c', 'c']\n"
     ]
    }
   ],
   "source": [
    "import re\n",
    "# 練習抓abbbbc, bc\n",
    "test_string = 'find abbbbc, bc, skip c, acc'\n",
    "pattern = '\\w'\n",
    "ans=re.findall(pattern,test_string)\n",
    "print(ans)"
   ]
  },
  {
   "cell_type": "code",
   "execution_count": null,
   "metadata": {},
   "outputs": [],
   "source": []
  }
 ],
 "metadata": {
  "kernelspec": {
   "display_name": "Python 3",
   "language": "python",
   "name": "python3"
  },
  "language_info": {
   "codemirror_mode": {
    "name": "ipython",
    "version": 3
   },
   "file_extension": ".py",
   "mimetype": "text/x-python",
   "name": "python",
   "nbconvert_exporter": "python",
   "pygments_lexer": "ipython3",
   "version": "3.6.0"
  }
 },
 "nbformat": 4,
 "nbformat_minor": 2
}
