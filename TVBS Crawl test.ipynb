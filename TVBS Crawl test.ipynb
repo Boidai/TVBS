{
 "cells": [
  {
   "cell_type": "code",
   "execution_count": 76,
   "metadata": {},
   "outputs": [
    {
     "name": "stdout",
     "output_type": "stream",
     "text": [
      "兩樣情！柯選後沒找陳景峻　想愛將接副手 https://news.tvbs.com.tw/politics/1044221 2018/12/09 21:08 記者  譚伊倫 / 攝影  傅建誠 吳承翰 蕭明正 報導 陳景峻      柯文哲      愛將      民進黨      副市長 民進黨籍的台北市副市長陳景峻，競選時不避諱幫柯文哲站台，被罵「背骨求官」，讓他講明之後想要休息，不過選後到現在他也坦言柯文哲沒來找過他，那接替人選也傳是柯文哲的大愛將，前社會局長許立民，柯文哲倒是說要看人家有沒有意願，似乎正在徵詢當中。台北市長柯文哲：「(要找許立民當副市長嗎)，這也要看人家有沒有意願啊，(你詢問他願意嗎)，唉喔，他...，這個就是詢問的過程嘛。」這意思就是有在問啦，8月才回台大醫院的前社會局長許立民，柯文哲的大愛將，可能接副市長，因為現任陳景峻已經公開多次說，選後想休息，就是要走，因為他說，他真的被罵到臭頭。台北市副市長陳景峻：「說我是為了求官啦、背骨啦等等之類的，確實我也受到很多的指責跟壓力啦。」身為民進黨籍，柯文哲競選站台也不避諱，自然包袱不小，那身為功臣之一，柯文哲選後有沒有私下好好聊一聊？台北市副市長陳景峻：「選舉選完也很忙嘛，我也不想去再麻煩市長，市長應該了解吧。」再忙，至少要問問吧，人家可是要離開了，綠營自家人也抱不平。北市議員(民)洪健益：「選舉完了論功行賞，代表你在柯文哲心中，是沒有任何功勞可言的，此處不留爺自有留爺處，陳副市長換個跑道，或許會更好。」相比跟愛將許立民，柯文哲對陳景峻的冷感，兩樣情，其實想聊，再忙都能擠出時間。最HOT話題在這！想跟上時事，快點我加入TVBS新聞LINE好友！ \n",
      "第 1\n",
      "下載完了!\n"
     ]
    }
   ],
   "source": [
    "import requests\n",
    "import os\n",
    "from bs4 import BeautifulSoup\n",
    "from urllib.request import urlopen\n",
    "from selenium import webdriver\n",
    "import time, re\n",
    "from collections import defaultdict, OrderedDict\n",
    "import sys\n",
    "import json\n",
    "\n",
    "\n",
    "def store(data):\n",
    "    with open('test1.json','w',encoding='utf8') as f:\n",
    "        f.write(data.encode(sys.stdin.encoding, \"replace\").decode(sys.stdin.encoding))\n",
    "    \n",
    "\n",
    "driver = webdriver.Chrome()\n",
    "driver.implicitly_wait(3)\n",
    "driver.get(\"https://news.tvbs.com.tw/politics/\")\n",
    "count = 0\n",
    "nlist = []\n",
    "for i in range(1,2):#拉\n",
    "    driver.execute_script('window.scrollTo(0, document.body.scrollHeight);')\n",
    "    time.sleep(1)\n",
    "sp = BeautifulSoup(driver.page_source)\n",
    "for j in range(0,2):#我不知道底多少,設一個較大的數字\n",
    "    try:\n",
    "        first = sp.find_all(\"div\", {\"class\":\"real_time_box\"})[0]\n",
    "        two = first.find(\"ul\")\n",
    "        three = two.find_all('li')[j]#變量 0~拉到底\n",
    "        four = three.find_all(\"div\", {\"class\":\"content_center_contxt_real_news\"})[0]\n",
    "    except:\n",
    "        continue\n",
    "    for i in range(0,1):\n",
    "        try:\n",
    "            five = four.select('a')[i]['href']#變量 一個li中有6個a href\n",
    "            news_url = \"https://news.tvbs.com.tw\"+str(five)\n",
    "           \n",
    "            title = four.select(\"h2\")[i].text\n",
    "      \n",
    "            html1 = requests.get(news_url)\n",
    "            html1.encoding=\"utf-8\"\n",
    "            \n",
    "            sp1 = BeautifulSoup(html1.text, 'html.parser')\n",
    "            \n",
    "            ct = sp1.find(\"div\", {\"class\":\"h7 margin_b20\"}).text\n",
    "            ct2 = ct.replace(\"\\t\", \"\").replace(\"   \",\"\")\n",
    "            ct3 = ct2.replace(\"\\n\", \"\")\n",
    "            ct4 = ct3.replace(\"   \", \"\").replace(\"最HOT話題在這！想跟上時事，快點我加入TVBS新聞LINE好友！ \",\"\")\n",
    "            \n",
    "            da = sp1.find(\"div\", {\"class\":\"icon_time time leftBox2\"}).text\n",
    "            \n",
    "            au = sp1.find(\"h4\", {\"class\":\"font_color5 leftBox1\"}).text\n",
    "            au1 = au.replace(\"編輯  \",\"\").replace(\" 報導\",\"\").replace(\"記者\",\"\").replace(\"/ 攝影\",\"\").replace(\"  \",\"\").replace(\" \",\",\")\n",
    "            \n",
    "            \n",
    "            kw = sp1.find(\"div\", {\"class\":\"adWords\"}).text\n",
    "            kw1 = kw.replace(\"\\t\", \"\")\n",
    "            kw2 = kw1.replace(\",\",\"\")\n",
    "            kw3 = kw2.replace(\"\\n\", \"\").replace(\"編輯  \",\"\").replace(\" 報導\",\"\")\n",
    "            kw4 = kw3.replace(\"記者\",\"\").replace(\"      \",\",\")\n",
    "            \n",
    "            \n",
    "            print(title, news_url, da, au, kw3, ct3)\n",
    "            count += 1\n",
    "            print('第',count)\n",
    "            \n",
    "            newsd = {\"source\":\"TVBS\",\"title\":title,\"url\":news_url,\"date_\":da,\n",
    "                 \"type\":\"net\",\"author\":au1,\"kw\":kw4,\"views\":None,\"content\":ct4}\n",
    "        \n",
    "            nlist.append(newsd)\n",
    "            \n",
    "            \n",
    "        except:\n",
    "            continue\n",
    "            \n",
    "json_data = json.dumps(nlist, ensure_ascii=False, indent=4, sort_keys=True)\n",
    "store(json_data)\n",
    "\n",
    "print(\"下載完了!\")\n",
    "\n",
    "driver.close()"
   ]
  },
  {
   "cell_type": "code",
   "execution_count": 67,
   "metadata": {},
   "outputs": [
    {
     "data": {
      "text/plain": [
       "'兩樣情！柯選後沒找陳景峻\\u3000想愛將接副手'"
      ]
     },
     "execution_count": 67,
     "metadata": {},
     "output_type": "execute_result"
    }
   ],
   "source": [
    "title"
   ]
  },
  {
   "cell_type": "code",
   "execution_count": 68,
   "metadata": {},
   "outputs": [
    {
     "data": {
      "text/plain": [
       "'https://news.tvbs.com.tw/politics/1044221'"
      ]
     },
     "execution_count": 68,
     "metadata": {},
     "output_type": "execute_result"
    }
   ],
   "source": [
    "news_url"
   ]
  },
  {
   "cell_type": "code",
   "execution_count": 69,
   "metadata": {},
   "outputs": [
    {
     "data": {
      "text/plain": [
       "'2018/12/09 21:08'"
      ]
     },
     "execution_count": 69,
     "metadata": {},
     "output_type": "execute_result"
    }
   ],
   "source": [
    "da"
   ]
  },
  {
   "cell_type": "code",
   "execution_count": 70,
   "metadata": {},
   "outputs": [
    {
     "data": {
      "text/plain": [
       "'記者  譚伊倫 / 攝影  傅建誠 吳承翰 蕭明正 報導'"
      ]
     },
     "execution_count": 70,
     "metadata": {},
     "output_type": "execute_result"
    }
   ],
   "source": [
    "au"
   ]
  },
  {
   "cell_type": "code",
   "execution_count": 71,
   "metadata": {},
   "outputs": [],
   "source": [
    "au1 = au.replace(\"編輯  \",\"\").replace(\" 報導\",\"\").replace(\"記者\",\"\").replace(\"/ 攝影\",\"\").replace(\"  \",\"\").replace(\" \",\",\")"
   ]
  },
  {
   "cell_type": "code",
   "execution_count": 72,
   "metadata": {},
   "outputs": [
    {
     "data": {
      "text/plain": [
       "'譚伊倫,傅建誠,吳承翰,蕭明正'"
      ]
     },
     "execution_count": 72,
     "metadata": {},
     "output_type": "execute_result"
    }
   ],
   "source": [
    "au1"
   ]
  },
  {
   "cell_type": "code",
   "execution_count": null,
   "metadata": {},
   "outputs": [],
   "source": []
  },
  {
   "cell_type": "code",
   "execution_count": 75,
   "metadata": {},
   "outputs": [
    {
     "data": {
      "text/plain": [
       "'陳景峻柯文哲愛將民進黨副市長'"
      ]
     },
     "execution_count": 75,
     "metadata": {},
     "output_type": "execute_result"
    }
   ],
   "source": [
    "kw3.replace(\"      \",\",\")"
   ]
  },
  {
   "cell_type": "code",
   "execution_count": 46,
   "metadata": {},
   "outputs": [],
   "source": [
    "ct4 = ct3.replace(\"   \", \"\").replace(\"最HOT話題在這！想跟上時事，快點我加入TVBS新聞LINE好友！ \",\"\")"
   ]
  },
  {
   "cell_type": "code",
   "execution_count": 47,
   "metadata": {},
   "outputs": [
    {
     "data": {
      "text/plain": [
       "'民進黨籍的台北市副市長陳景峻，競選時不避諱幫柯文哲站台，被罵「背骨求官」，讓他講明之後想要休息，不過選後到現在他也坦言柯文哲沒來找過他，那接替人選也傳是柯文哲的大愛將，前社會局長許立民，柯文哲倒是說要看人家有沒有意願，似乎正在徵詢當中。台北市長柯文哲：「(要找許立民當副市長嗎)，這也要看人家有沒有意願啊，(你詢問他願意嗎)，唉喔，他...，這個就是詢問的過程嘛。」這意思就是有在問啦，8月才回台大醫院的前社會局長許立民，柯文哲的大愛將，可能接副市長，因為現任陳景峻已經公開多次說，選後想休息，就是要走，因為他說，他真的被罵到臭頭。台北市副市長陳景峻：「說我是為了求官啦、背骨啦等等之類的，確實我也受到很多的指責跟壓力啦。」身為民進黨籍，柯文哲競選站台也不避諱，自然包袱不小，那身為功臣之一，柯文哲選後有沒有私下好好聊一聊？台北市副市長陳景峻：「選舉選完也很忙嘛，我也不想去再麻煩市長，市長應該了解吧。」再忙，至少要問問吧，人家可是要離開了，綠營自家人也抱不平。北市議員(民)洪健益：「選舉完了論功行賞，代表你在柯文哲心中，是沒有任何功勞可言的，此處不留爺自有留爺處，陳副市長換個跑道，或許會更好。」相比跟愛將許立民，柯文哲對陳景峻的冷感，兩樣情，其實想聊，再忙都能擠出時間。'"
      ]
     },
     "execution_count": 47,
     "metadata": {},
     "output_type": "execute_result"
    }
   ],
   "source": [
    "ct4"
   ]
  },
  {
   "cell_type": "code",
   "execution_count": 24,
   "metadata": {},
   "outputs": [
    {
     "name": "stdout",
     "output_type": "stream",
     "text": [
      "['f', 'i', 'n', 'd', 'a', 'b', 'b', 'b', 'b', 'c', 'b', 'c', 's', 'k', 'i', 'p', 'c', 'a', 'c', 'c']\n"
     ]
    }
   ],
   "source": [
    "import re\n",
    "# 練習抓abbbbc, bc\n",
    "test_string = 'find abbbbc, bc, skip c, acc'\n",
    "pattern = '\\w'\n",
    "ans=re.findall(pattern,test_string)\n",
    "print(ans)"
   ]
  },
  {
   "cell_type": "code",
   "execution_count": null,
   "metadata": {},
   "outputs": [],
   "source": []
  },
  {
   "cell_type": "code",
   "execution_count": null,
   "metadata": {},
   "outputs": [],
   "source": []
  }
 ],
 "metadata": {
  "kernelspec": {
   "display_name": "Python 3",
   "language": "python",
   "name": "python3"
  },
  "language_info": {
   "codemirror_mode": {
    "name": "ipython",
    "version": 3
   },
   "file_extension": ".py",
   "mimetype": "text/x-python",
   "name": "python",
   "nbconvert_exporter": "python",
   "pygments_lexer": "ipython3",
   "version": "3.6.0"
  }
 },
 "nbformat": 4,
 "nbformat_minor": 2
}
